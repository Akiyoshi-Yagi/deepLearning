{
  "nbformat": 4,
  "nbformat_minor": 0,
  "metadata": {
    "colab": {
      "name": "sumple_deepLearning.ipynb",
      "provenance": [],
      "authorship_tag": "ABX9TyMVQ2CKrVYeHVyqWGZn89lM",
      "include_colab_link": true
    },
    "kernelspec": {
      "name": "python3",
      "display_name": "Python 3"
    },
    "accelerator": "GPU"
  },
  "cells": [
    {
      "cell_type": "markdown",
      "metadata": {
        "id": "view-in-github",
        "colab_type": "text"
      },
      "source": [
        "<a href=\"https://colab.research.google.com/github/Akiyoshi-Yagi/deepLearning/blob/master/sumple_deepLearning.ipynb\" target=\"_parent\"><img src=\"https://colab.research.google.com/assets/colab-badge.svg\" alt=\"Open In Colab\"/></a>"
      ]
    },
    {
      "cell_type": "code",
      "metadata": {
        "id": "tL7iQMFIlXK_",
        "colab_type": "code",
        "colab": {
          "base_uri": "https://localhost:8080/",
          "height": 221
        },
        "outputId": "8b6e6074-2086-4bd8-8b25-9a6d4f698123"
      },
      "source": [
        "import numpy as np\n",
        "from sklearn import datasets\n",
        "\n",
        "iris = datasets.load_iris()\n",
        "print(iris.data[:10])\n",
        "print(iris.target[:10])\n",
        "print(iris.data.shape)"
      ],
      "execution_count": 6,
      "outputs": [
        {
          "output_type": "stream",
          "text": [
            "[[5.1 3.5 1.4 0.2]\n",
            " [4.9 3.  1.4 0.2]\n",
            " [4.7 3.2 1.3 0.2]\n",
            " [4.6 3.1 1.5 0.2]\n",
            " [5.  3.6 1.4 0.2]\n",
            " [5.4 3.9 1.7 0.4]\n",
            " [4.6 3.4 1.4 0.3]\n",
            " [5.  3.4 1.5 0.2]\n",
            " [4.4 2.9 1.4 0.2]\n",
            " [4.9 3.1 1.5 0.1]]\n",
            "[0 0 0 0 0 0 0 0 0 0]\n",
            "(150, 4)\n"
          ],
          "name": "stdout"
        }
      ]
    },
    {
      "cell_type": "code",
      "metadata": {
        "id": "yPMfPz-6mNeg",
        "colab_type": "code",
        "colab": {
          "base_uri": "https://localhost:8080/",
          "height": 357
        },
        "outputId": "e0e4bf4f-6ba7-47dc-fc88-73595b107e2a"
      },
      "source": [
        "from sklearn import preprocessing\n",
        "from keras.utils import np_utils\n",
        "\n",
        "#標準化（正規化したい場合はMinMaxScalerを使う！！！）\n",
        "scaler = preprocessing.StandardScaler()\n",
        "scaler.fit(iris.data)\n",
        "x = scaler.transform(iris.data)\n",
        "print(x[:10])\n",
        "\n",
        "'''\n",
        "Kerasはラベルを数値ではなく、\n",
        "0or1を要素に持つベクトルで扱うらしい \n",
        "つまりあるサンプルに対するターゲットを「3」だとすると\n",
        "[0, 0, 0, 1, 0, 0, 0, 0, 0, 0]みたいな感じにしなければならない。\n",
        "ワンホット表現\n",
        "'''\n",
        "t = np_utils.to_categorical(iris.target)\n",
        "print(t[:10])\n",
        "\n",
        "\n"
      ],
      "execution_count": 7,
      "outputs": [
        {
          "output_type": "stream",
          "text": [
            "[[-0.90068117  1.01900435 -1.34022653 -1.3154443 ]\n",
            " [-1.14301691 -0.13197948 -1.34022653 -1.3154443 ]\n",
            " [-1.38535265  0.32841405 -1.39706395 -1.3154443 ]\n",
            " [-1.50652052  0.09821729 -1.2833891  -1.3154443 ]\n",
            " [-1.02184904  1.24920112 -1.34022653 -1.3154443 ]\n",
            " [-0.53717756  1.93979142 -1.16971425 -1.05217993]\n",
            " [-1.50652052  0.78880759 -1.34022653 -1.18381211]\n",
            " [-1.02184904  0.78880759 -1.2833891  -1.3154443 ]\n",
            " [-1.74885626 -0.36217625 -1.34022653 -1.3154443 ]\n",
            " [-1.14301691  0.09821729 -1.2833891  -1.44707648]]\n",
            "[[1. 0. 0.]\n",
            " [1. 0. 0.]\n",
            " [1. 0. 0.]\n",
            " [1. 0. 0.]\n",
            " [1. 0. 0.]\n",
            " [1. 0. 0.]\n",
            " [1. 0. 0.]\n",
            " [1. 0. 0.]\n",
            " [1. 0. 0.]\n",
            " [1. 0. 0.]]\n"
          ],
          "name": "stdout"
        }
      ]
    },
    {
      "cell_type": "code",
      "metadata": {
        "id": "sapF1pBMozYL",
        "colab_type": "code",
        "colab": {
          "base_uri": "https://localhost:8080/",
          "height": 34
        },
        "outputId": "b76a6689-2f63-4f7b-aca5-8db699939e49"
      },
      "source": [
        "#全体のデータを訓練用とテスト用に分ける！\n",
        "from sklearn.model_selection import train_test_split\n",
        "\n",
        "x_train, x_test, t_train, t_test = train_test_split(x, t, train_size=0.75)\n",
        "print(x_train.shape)"
      ],
      "execution_count": 8,
      "outputs": [
        {
          "output_type": "stream",
          "text": [
            "(112, 4)\n"
          ],
          "name": "stdout"
        }
      ]
    },
    {
      "cell_type": "code",
      "metadata": {
        "id": "qsKUQTwjqH5C",
        "colab_type": "code",
        "colab": {
          "base_uri": "https://localhost:8080/",
          "height": 374
        },
        "outputId": "115b008d-f70a-4cf6-c255-13c797a472b6"
      },
      "source": [
        "#モデルの構築\n",
        "\n",
        "from keras.models import Sequential\n",
        "from keras.layers import Dense, Activation\n",
        "\n",
        "model = Sequential()\n",
        "#中間層１のニューロン\n",
        "model.add(Dense(32, input_dim=4))\n",
        "#活性化関数\n",
        "model.add(Activation(\"relu\"))\n",
        "#中間層２のニューロン\n",
        "model.add(Dense(32))\n",
        "model.add(Activation(\"relu\"))\n",
        "#最後の層\n",
        "model.add(Dense(3))\n",
        "model.add(Activation(\"softmax\"))\n",
        "#コンパイル\n",
        "model.compile(optimizer=\"sgd\",loss=\"categorical_crossentropy\",metrics=[\"accuracy\"])\n",
        "\n",
        "print(model.summary())"
      ],
      "execution_count": 9,
      "outputs": [
        {
          "output_type": "stream",
          "text": [
            "Model: \"sequential_4\"\n",
            "_________________________________________________________________\n",
            "Layer (type)                 Output Shape              Param #   \n",
            "=================================================================\n",
            "dense_10 (Dense)             (None, 32)                160       \n",
            "_________________________________________________________________\n",
            "activation_10 (Activation)   (None, 32)                0         \n",
            "_________________________________________________________________\n",
            "dense_11 (Dense)             (None, 32)                1056      \n",
            "_________________________________________________________________\n",
            "activation_11 (Activation)   (None, 32)                0         \n",
            "_________________________________________________________________\n",
            "dense_12 (Dense)             (None, 3)                 99        \n",
            "_________________________________________________________________\n",
            "activation_12 (Activation)   (None, 3)                 0         \n",
            "=================================================================\n",
            "Total params: 1,315\n",
            "Trainable params: 1,315\n",
            "Non-trainable params: 0\n",
            "_________________________________________________________________\n",
            "None\n"
          ],
          "name": "stdout"
        }
      ]
    },
    {
      "cell_type": "code",
      "metadata": {
        "id": "jIbEHLMFqsRx",
        "colab_type": "code",
        "colab": {
          "base_uri": "https://localhost:8080/",
          "height": 1000
        },
        "outputId": "5d97995a-893b-4f41-c664-e1f3b602c6d3"
      },
      "source": [
        "#学習開始！！\n",
        "history = model.fit(x_train, t_train, nb_epoch=30, batch_size=8)"
      ],
      "execution_count": 10,
      "outputs": [
        {
          "output_type": "stream",
          "text": [
            "WARNING:tensorflow:From /usr/local/lib/python3.6/dist-packages/tensorflow_core/python/ops/math_grad.py:1424: where (from tensorflow.python.ops.array_ops) is deprecated and will be removed in a future version.\n",
            "Instructions for updating:\n",
            "Use tf.where in 2.0, which has the same broadcast rule as np.where\n",
            "WARNING:tensorflow:From /usr/local/lib/python3.6/dist-packages/keras/backend/tensorflow_backend.py:1033: The name tf.assign_add is deprecated. Please use tf.compat.v1.assign_add instead.\n",
            "\n",
            "WARNING:tensorflow:From /usr/local/lib/python3.6/dist-packages/keras/backend/tensorflow_backend.py:1020: The name tf.assign is deprecated. Please use tf.compat.v1.assign instead.\n",
            "\n",
            "WARNING:tensorflow:From /usr/local/lib/python3.6/dist-packages/keras/backend/tensorflow_backend.py:3005: The name tf.Session is deprecated. Please use tf.compat.v1.Session instead.\n",
            "\n",
            "Epoch 1/30\n",
            "WARNING:tensorflow:From /usr/local/lib/python3.6/dist-packages/keras/backend/tensorflow_backend.py:190: The name tf.get_default_session is deprecated. Please use tf.compat.v1.get_default_session instead.\n",
            "\n",
            "WARNING:tensorflow:From /usr/local/lib/python3.6/dist-packages/keras/backend/tensorflow_backend.py:197: The name tf.ConfigProto is deprecated. Please use tf.compat.v1.ConfigProto instead.\n",
            "\n"
          ],
          "name": "stdout"
        },
        {
          "output_type": "stream",
          "text": [
            "/usr/local/lib/python3.6/dist-packages/ipykernel_launcher.py:1: UserWarning: The `nb_epoch` argument in `fit` has been renamed `epochs`.\n",
            "  \"\"\"Entry point for launching an IPython kernel.\n"
          ],
          "name": "stderr"
        },
        {
          "output_type": "stream",
          "text": [
            "WARNING:tensorflow:From /usr/local/lib/python3.6/dist-packages/keras/backend/tensorflow_backend.py:207: The name tf.global_variables is deprecated. Please use tf.compat.v1.global_variables instead.\n",
            "\n",
            "WARNING:tensorflow:From /usr/local/lib/python3.6/dist-packages/keras/backend/tensorflow_backend.py:216: The name tf.is_variable_initialized is deprecated. Please use tf.compat.v1.is_variable_initialized instead.\n",
            "\n",
            "WARNING:tensorflow:From /usr/local/lib/python3.6/dist-packages/keras/backend/tensorflow_backend.py:223: The name tf.variables_initializer is deprecated. Please use tf.compat.v1.variables_initializer instead.\n",
            "\n",
            "112/112 [==============================] - 9s 83ms/step - loss: 0.9612 - acc: 0.7054\n",
            "Epoch 2/30\n",
            "112/112 [==============================] - 0s 455us/step - loss: 0.8868 - acc: 0.7679\n",
            "Epoch 3/30\n",
            "112/112 [==============================] - 0s 398us/step - loss: 0.8265 - acc: 0.7857\n",
            "Epoch 4/30\n",
            "112/112 [==============================] - 0s 400us/step - loss: 0.7732 - acc: 0.7946\n",
            "Epoch 5/30\n",
            "112/112 [==============================] - 0s 417us/step - loss: 0.7266 - acc: 0.7946\n",
            "Epoch 6/30\n",
            "112/112 [==============================] - 0s 465us/step - loss: 0.6848 - acc: 0.8036\n",
            "Epoch 7/30\n",
            "112/112 [==============================] - 0s 415us/step - loss: 0.6474 - acc: 0.8036\n",
            "Epoch 8/30\n",
            "112/112 [==============================] - 0s 412us/step - loss: 0.6129 - acc: 0.8125\n",
            "Epoch 9/30\n",
            "112/112 [==============================] - 0s 479us/step - loss: 0.5821 - acc: 0.8125\n",
            "Epoch 10/30\n",
            "112/112 [==============================] - 0s 416us/step - loss: 0.5538 - acc: 0.8214\n",
            "Epoch 11/30\n",
            "112/112 [==============================] - 0s 457us/step - loss: 0.5283 - acc: 0.8214\n",
            "Epoch 12/30\n",
            "112/112 [==============================] - 0s 466us/step - loss: 0.5052 - acc: 0.8214\n",
            "Epoch 13/30\n",
            "112/112 [==============================] - 0s 392us/step - loss: 0.4843 - acc: 0.8125\n",
            "Epoch 14/30\n",
            "112/112 [==============================] - 0s 396us/step - loss: 0.4648 - acc: 0.8304\n",
            "Epoch 15/30\n",
            "112/112 [==============================] - 0s 442us/step - loss: 0.4476 - acc: 0.8304\n",
            "Epoch 16/30\n",
            "112/112 [==============================] - 0s 392us/step - loss: 0.4318 - acc: 0.8393\n",
            "Epoch 17/30\n",
            "112/112 [==============================] - 0s 538us/step - loss: 0.4174 - acc: 0.8393\n",
            "Epoch 18/30\n",
            "112/112 [==============================] - 0s 439us/step - loss: 0.4034 - acc: 0.8482\n",
            "Epoch 19/30\n",
            "112/112 [==============================] - 0s 371us/step - loss: 0.3905 - acc: 0.8482\n",
            "Epoch 20/30\n",
            "112/112 [==============================] - 0s 416us/step - loss: 0.3776 - acc: 0.8482\n",
            "Epoch 21/30\n",
            "112/112 [==============================] - 0s 418us/step - loss: 0.3670 - acc: 0.8661\n",
            "Epoch 22/30\n",
            "112/112 [==============================] - 0s 405us/step - loss: 0.3567 - acc: 0.8661\n",
            "Epoch 23/30\n",
            "112/112 [==============================] - 0s 413us/step - loss: 0.3472 - acc: 0.8661\n",
            "Epoch 24/30\n",
            "112/112 [==============================] - 0s 381us/step - loss: 0.3370 - acc: 0.8661\n",
            "Epoch 25/30\n",
            "112/112 [==============================] - 0s 317us/step - loss: 0.3285 - acc: 0.8929\n",
            "Epoch 26/30\n",
            "112/112 [==============================] - 0s 317us/step - loss: 0.3206 - acc: 0.8839\n",
            "Epoch 27/30\n",
            "112/112 [==============================] - 0s 353us/step - loss: 0.3120 - acc: 0.9196\n",
            "Epoch 28/30\n",
            "112/112 [==============================] - 0s 329us/step - loss: 0.3057 - acc: 0.9196\n",
            "Epoch 29/30\n",
            "112/112 [==============================] - 0s 333us/step - loss: 0.2981 - acc: 0.9107\n",
            "Epoch 30/30\n",
            "112/112 [==============================] - 0s 452us/step - loss: 0.2906 - acc: 0.9196\n"
          ],
          "name": "stdout"
        }
      ]
    },
    {
      "cell_type": "code",
      "metadata": {
        "id": "cIE35AO0vRfn",
        "colab_type": "code",
        "colab": {
          "base_uri": "https://localhost:8080/",
          "height": 265
        },
        "outputId": "bba4486f-4d7c-4127-f48a-6f8b5f0f374f"
      },
      "source": [
        "#学習の推移を視覚化\n",
        "import matplotlib.pyplot as plt\n",
        "hist_loss = history.history[\"loss\"]\n",
        "hist_acc = history.history[\"acc\"]\n",
        "\n",
        "plt.plot(np.arange(len(hist_loss)),hist_loss,label=\"loss\")\n",
        "plt.plot(np.arange(len(hist_acc)),hist_acc,label=\"acc\")\n",
        "plt.legend()\n",
        "plt.show()"
      ],
      "execution_count": 14,
      "outputs": [
        {
          "output_type": "display_data",
          "data": {
            "image/png": "[encoded data removed]",
            "text/plain": [
              "<Figure size 432x288 with 1 Axes>"
            ]
          },
          "metadata": {
            "tags": []
          }
        }
      ]
    },
    {
      "cell_type": "code",
      "metadata": {
        "id": "EzxhCGNywLjr",
        "colab_type": "code",
        "colab": {
          "base_uri": "https://localhost:8080/",
          "height": 51
        },
        "outputId": "e935de0d-451d-4ef0-9a5e-804dd0b84d29"
      },
      "source": [
        "#評価\n",
        "loss, accuracy = model.evaluate(x_test, t_test)\n",
        "print(loss, accuracy)\n"
      ],
      "execution_count": 15,
      "outputs": [
        {
          "output_type": "stream",
          "text": [
            "38/38 [==============================] - 0s 1ms/step\n",
            "0.2633237909329565 0.9210526315789473\n"
          ],
          "name": "stdout"
        }
      ]
    },
    {
      "cell_type": "code",
      "metadata": {
        "id": "QR8d0dLPxIr9",
        "colab_type": "code",
        "colab": {
          "base_uri": "https://localhost:8080/",
          "height": 663
        },
        "outputId": "55cf0058-304e-45cc-b6ad-4b3b07796799"
      },
      "source": [
        "#予測\n",
        "model.predict(x_test)"
      ],
      "execution_count": 16,
      "outputs": [
        {
          "output_type": "execute_result",
          "data": {
            "text/plain": [
              "array([[0.03472073, 0.39592555, 0.5693537 ],\n",
              "       [0.94122493, 0.04945701, 0.0093181 ],\n",
              "       [0.01056945, 0.08854505, 0.9008855 ],\n",
              "       [0.00289161, 0.05412542, 0.94298303],\n",
              "       [0.01216717, 0.08728817, 0.9005447 ],\n",
              "       [0.9675481 , 0.02828202, 0.00416996],\n",
              "       [0.02604681, 0.68399423, 0.2899589 ],\n",
              "       [0.1019849 , 0.85704666, 0.04096837],\n",
              "       [0.05318937, 0.34877077, 0.59803987],\n",
              "       [0.965973  , 0.02900388, 0.00502312],\n",
              "       [0.05253118, 0.7971898 , 0.1502791 ],\n",
              "       [0.96155226, 0.03250102, 0.00594669],\n",
              "       [0.06863351, 0.4084504 , 0.52291614],\n",
              "       [0.9600201 , 0.03732433, 0.00265558],\n",
              "       [0.04526683, 0.92640954, 0.02832361],\n",
              "       [0.02245146, 0.21069922, 0.76684934],\n",
              "       [0.09889276, 0.67362404, 0.22748312],\n",
              "       [0.06951731, 0.50931984, 0.42116287],\n",
              "       [0.02864259, 0.36173046, 0.60962695],\n",
              "       [0.08266583, 0.56589806, 0.35143605],\n",
              "       [0.08354622, 0.63369584, 0.28275797],\n",
              "       [0.96395576, 0.03267106, 0.00337311],\n",
              "       [0.96731275, 0.02917349, 0.00351368],\n",
              "       [0.94264793, 0.04929613, 0.00805602],\n",
              "       [0.9691319 , 0.02592085, 0.00494725],\n",
              "       [0.9723306 , 0.02601036, 0.00165901],\n",
              "       [0.9611255 , 0.03531284, 0.00356166],\n",
              "       [0.01039852, 0.07084029, 0.91876113],\n",
              "       [0.01198563, 0.06561151, 0.9224028 ],\n",
              "       [0.00477914, 0.10267491, 0.89254594],\n",
              "       [0.97572464, 0.01989522, 0.00438019],\n",
              "       [0.10277014, 0.44227755, 0.45495224],\n",
              "       [0.97427636, 0.02321647, 0.00250722],\n",
              "       [0.02047893, 0.1260088 , 0.8535123 ],\n",
              "       [0.9728714 , 0.02420976, 0.00291882],\n",
              "       [0.9421535 , 0.05145719, 0.00638924],\n",
              "       [0.0222067 , 0.40614474, 0.57164854],\n",
              "       [0.98246723, 0.01548899, 0.00204378]], dtype=float32)"
            ]
          },
          "metadata": {
            "tags": []
          },
          "execution_count": 16
        }
      ]
    },
    {
      "cell_type": "code",
      "metadata": {
        "id": "fKLaNzHLxfkM",
        "colab_type": "code",
        "colab": {
          "base_uri": "https://localhost:8080/",
          "height": 34
        },
        "outputId": "dd32c6cc-927c-4e75-d300-dc15761df788"
      },
      "source": [
        "#学習したモデルの保存\n",
        "\n",
        "from keras.models import load_model\n",
        "\n",
        "model.save(\"model.tx\")\n",
        "load_model(\"model.tx\")"
      ],
      "execution_count": 18,
      "outputs": [
        {
          "output_type": "execute_result",
          "data": {
            "text/plain": [
              "<keras.engine.sequential.Sequential at 0x7fbbd1ec1588>"
            ]
          },
          "metadata": {
            "tags": []
          },
          "execution_count": 18
        }
      ]
    },
    {
      "cell_type": "code",
      "metadata": {
        "id": "nbbwGj38x7Xv",
        "colab_type": "code",
        "colab": {}
      },
      "source": [
        ""
      ],
      "execution_count": 0,
      "outputs": []
    }
  ]
}